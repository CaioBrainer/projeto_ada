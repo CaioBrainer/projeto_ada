{
 "cells": [
  {
   "cell_type": "markdown",
   "id": "245b822d-3fc2-4cf6-aeec-12ddb406262f",
   "metadata": {},
   "source": [
    "# <center> Meu Gerente </center>"
   ]
  },
  {
   "cell_type": "markdown",
   "id": "851d8e0a-850b-4a6e-8007-2c9f202b3d49",
   "metadata": {},
   "source": [
    "-----"
   ]
  },
  {
   "cell_type": "raw",
   "id": "84069ea1-9ffd-4f50-90be-2640dc8e8578",
   "metadata": {},
   "source": [
    "Projeto de finalização do módulo do grupo: Caio, Ian, Bianca, Lucas e Camila"
   ]
  },
  {
   "cell_type": "markdown",
   "id": "8b69c8a9-b2d5-4867-b7be-4c644feb0723",
   "metadata": {},
   "source": [
    "----"
   ]
  },
  {
   "cell_type": "code",
   "execution_count": 1,
   "id": "183ed9cd-b1dc-4f97-9777-a96bd512d8cf",
   "metadata": {},
   "outputs": [],
   "source": [
    "#Esqueleto do sistema:\n",
    "def meu_gerente():\n",
    "    print(60*'-')\n",
    "    print(\"Seja bem vindo ao seu gerente pessoal\")\n",
    "    print(60*'-')\n",
    "    while True:\n",
    "        exibir_menu()\n",
    "        \n",
    "        escolha = input(\"Escolha uma opção (1-5): \")\n",
    "        \n",
    "        if escolha == '1':\n",
    "            criar_registro()\n",
    "        elif escolha == '2':\n",
    "            atualizar_registros()\n",
    "        elif escolha == '3':\n",
    "            deletar_registros()\n",
    "        elif escolha == '4':\n",
    "            ler_registros()\n",
    "        elif escolha == '5':\n",
    "            print(\"Saindo do programa. Até logo!\")\n",
    "            break\n",
    "        else:\n",
    "            print(\"Opção inválida. Tente novamente.\")\n",
    "\n",
    "def exibir_menu():\n",
    "    print(60*'-')\n",
    "    print(\"1. Criar novo registro.\")\n",
    "    print(\"2. Atualizar registro existente.\")\n",
    "    print(\"3. Deletar registro existente.\")\n",
    "    print(\"4. Carregar registros externos.\")\t\n",
    "    print(\"5. Sair do aplicativo\")\n",
    "    print(60*'-')\n",
    "\n",
    "def criar_registro(tipo, valor):\n",
    "    pass\n",
    "\n",
    "def ler_registros():\n",
    "    print(\"Você escolheu a Opção 1.\")\n",
    "    pass\n",
    "\n",
    "def atualizar_registros():\n",
    "    print(\"Você escolheu a Opção 2.\")\n",
    "    pass\n",
    "\n",
    "def deletar_registros():\n",
    "    print(\"Você escolheu a Opção 3.\")\n",
    "    pass\n",
    "\n",
    "def sair():\n",
    "    print(\"Você escolheu a Opção 5.\")"
   ]
  },
  {
   "cell_type": "code",
   "execution_count": 2,
   "id": "535d8792-45b0-4e59-90e1-29921bb35bd7",
   "metadata": {},
   "outputs": [
    {
     "name": "stdout",
     "output_type": "stream",
     "text": [
      "------------------------------------------------------------\n",
      "Seja bem vindo ao seu gerente pessoal\n",
      "------------------------------------------------------------\n",
      "------------------------------------------------------------\n",
      "1. Criar novo registro.\n",
      "2. Atualizar registro existente.\n",
      "3. Deletar registro existente.\n",
      "4. Carregar registros externos.\n",
      "5. Sair do aplicativo\n",
      "------------------------------------------------------------\n"
     ]
    },
    {
     "name": "stdin",
     "output_type": "stream",
     "text": [
      "Escolha uma opção (1-5):  5\n"
     ]
    },
    {
     "name": "stdout",
     "output_type": "stream",
     "text": [
      "Saindo do programa. Até logo!\n"
     ]
    }
   ],
   "source": [
    "# Aqui vai a execução do sistema, ao longo do projeto a gente vai adicionando as funções que fomos implementando :)\n",
    "meu_gerente()"
   ]
  },
  {
   "cell_type": "code",
   "execution_count": 3,
   "id": "84c079ff-c5e3-4de1-9d02-1612371ca5af",
   "metadata": {},
   "outputs": [],
   "source": [
    "estrutura1 = {'Usuário' : 'Caio', 'informacoes': {'tipo_registro': [], 'valor': [], 'data': []}}"
   ]
  },
  {
   "cell_type": "code",
   "execution_count": 4,
   "id": "e860873e-076c-497f-a652-f4742a6dfd26",
   "metadata": {},
   "outputs": [
    {
     "data": {
      "text/plain": [
       "'Caio'"
      ]
     },
     "execution_count": 4,
     "metadata": {},
     "output_type": "execute_result"
    }
   ],
   "source": [
    "# estrutura1['informacoes']['tipo_registro'], estrutura2['informacoes']['valor'], estrutura2['informacoes']['data']\n",
    "estrutura1['Usuário']"
   ]
  }
 ],
 "metadata": {
  "kernelspec": {
   "display_name": "Python 3 (ipykernel)",
   "language": "python",
   "name": "python3"
  },
  "language_info": {
   "codemirror_mode": {
    "name": "ipython",
    "version": 3
   },
   "file_extension": ".py",
   "mimetype": "text/x-python",
   "name": "python",
   "nbconvert_exporter": "python",
   "pygments_lexer": "ipython3",
   "version": "3.9.18"
  }
 },
 "nbformat": 4,
 "nbformat_minor": 5
}

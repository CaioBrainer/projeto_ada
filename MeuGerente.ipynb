{
 "cells": [
  {
   "cell_type": "markdown",
   "id": "245b822d-3fc2-4cf6-aeec-12ddb406262f",
   "metadata": {},
   "source": [
    "# <center> Meu Gerente Financeiro </center>"
   ]
  },
  {
   "cell_type": "markdown",
   "id": "851d8e0a-850b-4a6e-8007-2c9f202b3d49",
   "metadata": {},
   "source": [
    "-----"
   ]
  },
  {
   "cell_type": "raw",
   "id": "84069ea1-9ffd-4f50-90be-2640dc8e8578",
   "metadata": {},
   "source": [
    "Projeto de finalização do módulo do grupo: Caio, Ian, Bianca, Lucas e Camila"
   ]
  },
  {
   "cell_type": "markdown",
   "id": "8b69c8a9-b2d5-4867-b7be-4c644feb0723",
   "metadata": {},
   "source": [
    "----"
   ]
  },
  {
   "cell_type": "code",
   "execution_count": null,
   "id": "f02a5e29-a19a-47ef-b0a5-1bde1f1a50fc",
   "metadata": {},
   "outputs": [],
   "source": [
    "#Bibliotecas Utilizadas\n",
    "import datetime\n",
    "import csv"
   ]
  },
  {
   "cell_type": "code",
   "execution_count": null,
   "id": "8769b797-3d63-4b91-b8ae-f948fbf4faeb",
   "metadata": {},
   "outputs": [],
   "source": [
    "# Esqueleto do sistema:\n",
    "def meu_gerente():\n",
    "    print(60*'-')\n",
    "    print(\"Seja bem vindo ao seu gerente pessoal\")\n",
    "    print(60*'-')\n",
    "\n",
    "    #Realiza a carga inicial caso haja algum arquivo com dados históricos de transação\n",
    "    registros = carga_dados()\n",
    "\n",
    "    # Loop principal do programa\n",
    "    while True:\n",
    "        exibir_menu()\n",
    "        \n",
    "        escolha = input(\"Escolha uma opção (1-5): \")\n",
    "        \n",
    "        if escolha == '1':\n",
    "            criar_registro(registros)\n",
    "        elif escolha == '2':\n",
    "            atualizar_registros()\n",
    "        elif escolha == '3':\n",
    "            deletar_registros()\n",
    "        elif escolha == '4':\n",
    "            ler_registros()\n",
    "        elif escolha == '5':\n",
    "            exportar_registros(registros)\n",
    "        elif escolha == '6':\n",
    "            print(\"Saindo do programa...\")\n",
    "            print(\"Exportando registros...\")\n",
    "            exportar_registros(registros)\n",
    "            break\n",
    "        else:\n",
    "            print(\"Opção inválida. Tente novamente.\")\n",
    "\n",
    "#Função para realizar a carga inicial dos dados históricos\n",
    "def carga_dados():\n",
    "    registros = []\n",
    "    nome_arquivo = 'historico_transacoes.csv'\n",
    "    try:\n",
    "        with open(nome_arquivo, newline='') as csvfile:\n",
    "            reader = csv.DictReader(csvfile)\n",
    "            for row in reader:\n",
    "                dicionario_linha = {}\n",
    "                dicionario_linha['tipo_registro'] = row['tipo_registro']\n",
    "                dicionario_linha['valor'] = float(row['valor'])\n",
    "                dicionario_linha['data'] = row['data']\n",
    "                registros.append(dicionario_linha)\n",
    "        print(f\"Registros carregadps de {nome_arquivo}\")\n",
    "        csvfile.close()\n",
    "        \n",
    "    except Exception:\n",
    "        print(f\"Não há nenhum arquivo chamado {nome_arquivo}\")\n",
    "        print(f\"Criou lista vazia registros_teste: {registros}\")\n",
    "    # Fecha o arquivo pra não dar BO\n",
    "    #irá retornar uma lista vazia\n",
    "    return registros\n",
    "\n",
    "def exibir_menu():\n",
    "    print(60*'-')\n",
    "    print(\"1. Criar novo registro.\")\n",
    "    print(\"2. Atualizar registro existente.\")\n",
    "    print(\"3. Deletar registro existente.\")\n",
    "    print(\"4. Carregar registros \")\n",
    "    print(\"5. Exportar registros\")\t\n",
    "    print(\"6. Sair do aplicativo\")\n",
    "    print(60*'-')\n",
    "\n",
    "# Função para exportar os registros\n",
    "def exportar_registros(registros):\n",
    "    # Solicita o nome do arquivo a ser exportado:\n",
    "    nome_arquivo = 'historico_transacoes.csv'\n",
    "\n",
    "    try:\n",
    "        if not nome_arquivo.endswith(\".csv\"):\n",
    "            nome_arquivo = nome_arquivo + \".csv\"\n",
    "\n",
    "        with open(nome_arquivo, 'w', newline='') as csvfile:\n",
    "            nomes_colunas = ['tipo_registro', 'valor', 'data']\n",
    "            escritor = csv.DictWriter(csvfile, fieldnames=nomes_colunas)\n",
    "            escritor.writeheader()\n",
    "            \n",
    "            for registro in registros:\n",
    "                escritor.writerow({'tipo_registro': registro['tipo_registro'], \n",
    "                                   'valor': registro['valor'], \n",
    "                                   'data': registro['data']})\n",
    "    except Exception as e:\n",
    "        print(f\"Não foi possível gerar um relatório de saída válido. Erro: {e}\")\n",
    "\n",
    "# Função para criar os registros\n",
    "def criar_registro(registros):\n",
    "    registro = {}\n",
    "    # Iremos criar um registro como dicionário nesse formato:\n",
    "    # {'tipo_registro': 'saldo', 'valor': 200, 'data': '22/01/2021'}\n",
    "    data_atual = datetime.datetime.now().date()\n",
    "    data_formatada = data_atual.strftime(\"%d/%m/%Y\")\n",
    "    \n",
    "    # Os tipos de registros são três: despesas, receita ou investimento, lembrar disso...\n",
    "    movimentacao = (input('Digite o tipo de movimentação: ')).lower()\n",
    "    while movimentacao not in ['despesa', 'receita', 'investimento']:\n",
    "        print(\"Movimentação inválida, digite: despesas, receita ou investimento\")\n",
    "        movimentacao = (input('Digite um tipo válido de movimentação: ')).lower()\n",
    "\n",
    "    registro['tipo_registro'] = movimentacao\n",
    "    #registros['tipo_registro'].append(movimentacao)\n",
    "    \n",
    "    valor = float(input('Digite o valor movimentado:'))\n",
    "    if movimentacao == 'despesa':\n",
    "        valor_neg = -valor\n",
    "        registro['valor'] = -valor # Valor negativo para indicar despesa (gasto)\n",
    "    else:\n",
    "        registro['valor'] = valor # Valor positivo para indicar receita (depósito) ou investimento\n",
    "    registro['data'] = data_formatada\n",
    "\n",
    "    registros.append(registro) # Erro aqui\n",
    "    return registros\n",
    "    \n",
    "#####################################################################################################################################################\n",
    "# Abaixo é o que falta implemeentar =/\n",
    "#####################################################################################################################################################\n",
    "def ler_registros():\n",
    "    print(\"Você escolheu a Opção 2.\")\n",
    "    pass\n",
    "\n",
    "def atualizar_registros():\n",
    "    print(\"Você escolheu a Opção 3.\")\n",
    "    pass\n",
    "\n",
    "def deletar_registros():\n",
    "    print(\"Você escolheu a Opção 4.\")\n",
    "    pass"
   ]
  },
  {
   "cell_type": "code",
   "execution_count": 3,
   "id": "43c7a133-77fc-4c7c-928a-cb1d166799c7",
   "metadata": {},
   "outputs": [
    {
     "name": "stdout",
     "output_type": "stream",
     "text": [
      "------------------------------------------------------------\n",
      "Seja bem vindo ao seu gerente pessoal\n",
      "------------------------------------------------------------\n",
      "Não há nenhum arquivo chamado historico_transacoes.csv\n",
      "Criou lista vazia registros_teste: []\n",
      "------------------------------------------------------------\n",
      "1. Criar novo registro.\n",
      "2. Atualizar registro existente.\n",
      "3. Deletar registro existente.\n",
      "4. Carregar registros \n",
      "5. Exportar registros\n",
      "6. Sair do aplicativo\n",
      "------------------------------------------------------------\n"
     ]
    },
    {
     "name": "stdin",
     "output_type": "stream",
     "text": [
      "Escolha uma opção (1-5):  1\n",
      "Digite o tipo de movimentação:  despesa\n",
      "Digite o valor movimentado: 3000\n"
     ]
    },
    {
     "name": "stdout",
     "output_type": "stream",
     "text": [
      "------------------------------------------------------------\n",
      "1. Criar novo registro.\n",
      "2. Atualizar registro existente.\n",
      "3. Deletar registro existente.\n",
      "4. Carregar registros \n",
      "5. Exportar registros\n",
      "6. Sair do aplicativo\n",
      "------------------------------------------------------------\n"
     ]
    },
    {
     "name": "stdin",
     "output_type": "stream",
     "text": [
      "Escolha uma opção (1-5):  6\n"
     ]
    },
    {
     "name": "stdout",
     "output_type": "stream",
     "text": [
      "Saindo do programa...\n",
      "Exportando registros...\n"
     ]
    }
   ],
   "source": [
    "#Aqui vai a execução do sistema, ao longo do projeto a gente vai adicionando as funções que fomos implementando :)\n",
    "# Após ler novamente eu decidi retirar o montante para não complicar demais o projeto, precisamos discutir isso :)\n",
    "meu_gerente()"
   ]
  },
  {
   "cell_type": "code",
   "execution_count": null,
   "id": "ece39feb-7c4a-4dea-884d-48e36a353f28",
   "metadata": {},
   "outputs": [],
   "source": [
    "meu_gerente()"
   ]
  },
  {
   "cell_type": "code",
   "execution_count": null,
   "id": "a5b3387b-2d6e-49e0-9889-2d9f6243c503",
   "metadata": {},
   "outputs": [],
   "source": [
    "registros = []\n",
    "nome_arquivo = 'historico_transacoes.csv'\n",
    "\n",
    "with open(nome_arquivo, newline='') as csvfile:\n",
    "    reader = csv.DictReader(csvfile)\n",
    "    for row in reader:\n",
    "        dicionario_linha = {}\n",
    "        dicionario_linha['tipo_registro'] = row['tipo_registro']\n",
    "        dicionario_linha['valor'] = float(row['valor'])\n",
    "        dicionario_linha['data'] = row['data']\n",
    "        registros.append(dicionario_linha)\n",
    "csvfile.close()\n",
    "\n",
    "registros"
   ]
  },
  {
   "cell_type": "markdown",
   "id": "fd099a34-2bf7-4c28-8553-7dfd374f1d51",
   "metadata": {},
   "source": [
    "--------------------"
   ]
  },
  {
   "cell_type": "markdown",
   "id": "82fd6e0d-1c8e-4947-89a0-97dc04c9bfaf",
   "metadata": {},
   "source": [
    "# Funções abaixo precisam ser implementadas no sistema"
   ]
  },
  {
   "cell_type": "markdown",
   "id": "fc4f241d-51ac-4f11-8cf4-07fc326fc16e",
   "metadata": {},
   "source": [
    "$M = V * (1 + i)^t$"
   ]
  },
  {
   "cell_type": "code",
   "execution_count": null,
   "id": "7f674fed-7c55-475b-8814-3e50f1a25547",
   "metadata": {},
   "outputs": [],
   "source": [
    "# Aula 22/01/2024, adiconado try except\n",
    "def retorno_investimento(data):\n",
    "    # Buscar o indice da data para poder pegar o valor se ele estiver na lista:\n",
    "    try:\n",
    "        indice = registros['informacoes']['data'].index(data)\n",
    "        valor = registros['informacoes']['valor'][indice]\n",
    "        # Formatar a data atual \n",
    "        formato_data = \"%d/%m/%Y\"\n",
    "        data_atual = datetime.datetime.now().date()\n",
    "        data_em_datetime = datetime.datetime.strptime(data, formato_data)\n",
    "    \n",
    "        # Subtrai as data atual - a data informada, passa para dias e coloca em dias/ano para calcular o juros...\n",
    "        dias_passados = (data_atual - data_em_datetime.date()).days\n",
    "        dias_passados_por_ano = dias_passados/365\n",
    "    \n",
    "        # Faz o cálculo dos juros e imprimi na tela (teste com dois anos)\n",
    "        juros = valor * (1 + 0.07)**dias_passados_por_ano\n",
    "        print(f\"Seu investimento de {valor} retornou R$ {juros:.2f} após {dias_passados:.0f} dias\")\n",
    "    except:\n",
    "        print(\"Formato inválido ou data não encontrada nos registros, tente novamente.\")\n",
    "        \n",
    "data_input = input('Digite uma data no formato dd/mm/aaaa: ')\n",
    "retorno_investimento(data_input)#'22/01/2023'\n",
    "#Acho que funcionou agora só resta acoplar..."
   ]
  },
  {
   "cell_type": "markdown",
   "id": "a1f850c7-9ec1-4c87-a923-cbb8116c8312",
   "metadata": {},
   "source": [
    "---------------"
   ]
  },
  {
   "cell_type": "code",
   "execution_count": null,
   "id": "c716aae3-531b-452f-988b-d9707a6cb35f",
   "metadata": {},
   "outputs": [],
   "source": [
    "registros"
   ]
  },
  {
   "cell_type": "code",
   "execution_count": null,
   "id": "f1864488-c380-47c8-aa59-e72c2c470c0f",
   "metadata": {},
   "outputs": [],
   "source": [
    "def filtro(tipo_filtro, busca, lista_registros):\n",
    "    filtro_registro = lambda dc: dc.get('tipo_registro') == busca\n",
    "    filtro_valor = lambda dc: dc.get('valor') == busca\n",
    "    filtro_data = lambda dc: dc.get('data') == busca\n",
    "\n",
    "    if tipo_filtro == \"registro\":\n",
    "        resultado_filtro = list(filter(filtro_registro, lista_registros))\n",
    "    elif tipo_filtro == \"valor\":\n",
    "        resultado_filtro = list(filter(filtro_valor, lista_registros))\n",
    "    elif tipo_filtro == \"data\":\n",
    "        resultado_filtro = list(filter(filtro_data, lista_registros))\n",
    "    else:\n",
    "        print(\"Tipo de filtro inválido\")\n",
    "    \n",
    "    print(resultado_filtro)"
   ]
  },
  {
   "cell_type": "code",
   "execution_count": null,
   "id": "bddf87b4-0fe6-42a2-b957-7076cce183c5",
   "metadata": {},
   "outputs": [],
   "source": [
    "filtro(\"registro\", \"despesa\", registros)"
   ]
  },
  {
   "cell_type": "code",
   "execution_count": null,
   "id": "ab375c64-6b10-4d8f-9f26-46c78ecfb89f",
   "metadata": {},
   "outputs": [],
   "source": [
    "#Esboço das funções para ler os dicionários com os devidos índices, os índices irão servir para a função de atualização a ser implementada.\n",
    "for indice, dicio in enumerate(dicionario):\n",
    "    print(indice, dicio)"
   ]
  }
 ],
 "metadata": {
  "kernelspec": {
   "display_name": "Python 3 (ipykernel)",
   "language": "python",
   "name": "python3"
  },
  "language_info": {
   "codemirror_mode": {
    "name": "ipython",
    "version": 3
   },
   "file_extension": ".py",
   "mimetype": "text/x-python",
   "name": "python",
   "nbconvert_exporter": "python",
   "pygments_lexer": "ipython3",
   "version": "3.9.18"
  }
 },
 "nbformat": 4,
 "nbformat_minor": 5
}

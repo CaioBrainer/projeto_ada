{
 "cells": [
  {
   "cell_type": "markdown",
   "id": "245b822d-3fc2-4cf6-aeec-12ddb406262f",
   "metadata": {},
   "source": [
    "# <center> Meu Gerente Financeiro </center>"
   ]
  },
  {
   "cell_type": "markdown",
   "id": "851d8e0a-850b-4a6e-8007-2c9f202b3d49",
   "metadata": {},
   "source": [
    "-----"
   ]
  },
  {
   "cell_type": "raw",
   "id": "84069ea1-9ffd-4f50-90be-2640dc8e8578",
   "metadata": {},
   "source": [
    "Projeto de finalização do módulo do grupo: Caio, Ian, Bianca, Lucas e Camila"
   ]
  },
  {
   "cell_type": "markdown",
   "id": "8b69c8a9-b2d5-4867-b7be-4c644feb0723",
   "metadata": {},
   "source": [
    "----"
   ]
  },
  {
   "cell_type": "code",
   "execution_count": 1,
   "id": "f02a5e29-a19a-47ef-b0a5-1bde1f1a50fc",
   "metadata": {},
   "outputs": [],
   "source": [
    "#Bibliotecas Utilizadas\n",
    "import datetime\n",
    "import csv"
   ]
  },
  {
   "cell_type": "code",
   "execution_count": 2,
   "id": "183ed9cd-b1dc-4f97-9777-a96bd512d8cf",
   "metadata": {},
   "outputs": [],
   "source": [
    "#Esqueleto do sistema:\n",
    "def meu_gerente():\n",
    "    print(60*'-')\n",
    "    print(\"Seja bem vindo ao seu gerente pessoal\")\n",
    "    print(60*'-')\n",
    "    while True:\n",
    "        exibir_menu()\n",
    "        \n",
    "        escolha = input(\"Escolha uma opção (1-5): \")\n",
    "        \n",
    "        if escolha == '1':\n",
    "            criar_registro()\n",
    "        elif escolha == '2':\n",
    "            atualizar_registros()\n",
    "        elif escolha == '3':\n",
    "            deletar_registros()\n",
    "        elif escolha == '4':\n",
    "            ler_registros()\n",
    "        elif escolha == '5':\n",
    "            print(\"Saindo do programa. Até logo!\")\n",
    "            break\n",
    "        else:\n",
    "            print(\"Opção inválida. Tente novamente.\")\n",
    "\n",
    "def exibir_menu():\n",
    "    print(60*'-')\n",
    "    print(\"1. Criar novo registro.\")\n",
    "    print(\"2. Atualizar registro existente.\")\n",
    "    print(\"3. Deletar registro existente.\")\n",
    "    print(\"4. Carregar registros externos.\")\t\n",
    "    print(\"5. Sair do aplicativo\")\n",
    "    print(60*'-')\n",
    "\n",
    "def criar_registro():\n",
    "    data_atual = datetime.datetime.now().date()\n",
    "    data_formatada = data_atual.strftime(\"%d/%m/%Y\")\n",
    "    \n",
    "    # Os tipos de registros são três: despesas, receita ou investimento, lembrar disso...\n",
    "    movimentacao = (input('Digite o tipo de movimentação: ')).lower()\n",
    "    while movimentacao not in ['despesa', 'receita', 'investimento']:\n",
    "        print(\"Movimentação inválida, digite: despesas, receita ou investimento\")\n",
    "        movimentacao = (input('Digite um tipo válido de movimentação: ')).lower()\n",
    "    registros['tipo_registro'].append(movimentacao)\n",
    "    \n",
    "    valor = float(input('Digite o valor movimentado:'))\n",
    "    if movimentacao == 'despesa':\n",
    "        valor_neg = -valor\n",
    "        registros['valor'].append(valor_neg)\n",
    "    else:\n",
    "        registros['valor'].append(valor)\n",
    "    registros['data'].append(data_formatada)\n",
    "\n",
    "def ler_registros():\n",
    "    print(\"Você escolheu a Opção 2.\")\n",
    "    pass\n",
    "\n",
    "def atualizar_registros():\n",
    "    print(\"Você escolheu a Opção 3.\")\n",
    "    pass\n",
    "\n",
    "def deletar_registros():\n",
    "    print(\"Você escolheu a Opção 4.\")\n",
    "    pass\n",
    "\n",
    "def sair():\n",
    "    print(\"Você escolheu a Opção 5.\")"
   ]
  },
  {
   "cell_type": "code",
   "execution_count": 3,
   "id": "43c7a133-77fc-4c7c-928a-cb1d166799c7",
   "metadata": {},
   "outputs": [
    {
     "name": "stdout",
     "output_type": "stream",
     "text": [
      "------------------------------------------------------------\n",
      "Seja bem vindo ao seu gerente pessoal\n",
      "------------------------------------------------------------\n",
      "------------------------------------------------------------\n",
      "1. Criar novo registro.\n",
      "2. Atualizar registro existente.\n",
      "3. Deletar registro existente.\n",
      "4. Carregar registros externos.\n",
      "5. Sair do aplicativo\n",
      "------------------------------------------------------------\n"
     ]
    },
    {
     "name": "stdin",
     "output_type": "stream",
     "text": [
      "Escolha uma opção (1-5):  1\n",
      "Digite o tipo de movimentação:  receita\n",
      "Digite o valor movimentado: 3100\n"
     ]
    },
    {
     "name": "stdout",
     "output_type": "stream",
     "text": [
      "------------------------------------------------------------\n",
      "1. Criar novo registro.\n",
      "2. Atualizar registro existente.\n",
      "3. Deletar registro existente.\n",
      "4. Carregar registros externos.\n",
      "5. Sair do aplicativo\n",
      "------------------------------------------------------------\n"
     ]
    },
    {
     "name": "stdin",
     "output_type": "stream",
     "text": [
      "Escolha uma opção (1-5):  1\n",
      "Digite o tipo de movimentação:  despesa\n",
      "Digite o valor movimentado: 575\n"
     ]
    },
    {
     "name": "stdout",
     "output_type": "stream",
     "text": [
      "------------------------------------------------------------\n",
      "1. Criar novo registro.\n",
      "2. Atualizar registro existente.\n",
      "3. Deletar registro existente.\n",
      "4. Carregar registros externos.\n",
      "5. Sair do aplicativo\n",
      "------------------------------------------------------------\n"
     ]
    },
    {
     "name": "stdin",
     "output_type": "stream",
     "text": [
      "Escolha uma opção (1-5):  1\n",
      "Digite o tipo de movimentação:  despesa\n",
      "Digite o valor movimentado: 127\n"
     ]
    },
    {
     "name": "stdout",
     "output_type": "stream",
     "text": [
      "------------------------------------------------------------\n",
      "1. Criar novo registro.\n",
      "2. Atualizar registro existente.\n",
      "3. Deletar registro existente.\n",
      "4. Carregar registros externos.\n",
      "5. Sair do aplicativo\n",
      "------------------------------------------------------------\n"
     ]
    },
    {
     "name": "stdin",
     "output_type": "stream",
     "text": [
      "Escolha uma opção (1-5):  5\n"
     ]
    },
    {
     "name": "stdout",
     "output_type": "stream",
     "text": [
      "Saindo do programa. Até logo!\n"
     ]
    },
    {
     "data": {
      "text/plain": [
       "{'tipo_registro': ['investimento', 'receita', 'despesa', 'despesa'],\n",
       " 'valor': [200, 3100.0, -575.0, -127.0],\n",
       " 'data': ['22/01/2023', '22/01/2024', '22/01/2024', '22/01/2024']}"
      ]
     },
     "execution_count": 3,
     "metadata": {},
     "output_type": "execute_result"
    }
   ],
   "source": [
    "registros = {'tipo_registro': ['investimento'], 'valor': [200], 'data': ['22/01/2023']}\n",
    "#Aqui vai a execução do sistema, ao longo do projeto a gente vai adicionando as funções que fomos implementando :)\n",
    "# Após ler novamente eu decidi retirar o montante para não complicar demais o projeto, precisamos discutir isso :)\n",
    "meu_gerente()\n",
    "registros"
   ]
  },
  {
   "cell_type": "markdown",
   "id": "fd099a34-2bf7-4c28-8553-7dfd374f1d51",
   "metadata": {},
   "source": [
    "--------------------"
   ]
  },
  {
   "cell_type": "markdown",
   "id": "82fd6e0d-1c8e-4947-89a0-97dc04c9bfaf",
   "metadata": {},
   "source": [
    "# Funções abaixo precisam ser implementadas no sistema"
   ]
  },
  {
   "cell_type": "markdown",
   "id": "fc4f241d-51ac-4f11-8cf4-07fc326fc16e",
   "metadata": {},
   "source": [
    "$M = V * (1 + i)^t$"
   ]
  },
  {
   "cell_type": "code",
   "execution_count": null,
   "id": "7f674fed-7c55-475b-8814-3e50f1a25547",
   "metadata": {},
   "outputs": [],
   "source": [
    "# Aula 22/01/2024, adiconado try except\n",
    "def retorno_investimento(data):\n",
    "    # Buscar o indice da data para poder pegar o valor se ele estiver na lista:\n",
    "    try:\n",
    "        indice = registros['informacoes']['data'].index(data)\n",
    "        valor = registros['informacoes']['valor'][indice]\n",
    "        # Formatar a data atual \n",
    "        formato_data = \"%d/%m/%Y\"\n",
    "        data_atual = datetime.datetime.now().date()\n",
    "        data_em_datetime = datetime.datetime.strptime(data, formato_data)\n",
    "    \n",
    "        # Subtrai as data atual - a data informada, passa para dias e coloca em dias/ano para calcular o juros...\n",
    "        dias_passados = (data_atual - data_em_datetime.date()).days\n",
    "        dias_passados_por_ano = dias_passados/365\n",
    "    \n",
    "        # Faz o cálculo dos juros e imprimi na tela (teste com dois anos)\n",
    "        juros = valor * (1 + 0.07)**dias_passados_por_ano\n",
    "        print(f\"Seu investimento de {valor} retornou R$ {juros:.2f} após {dias_passados:.0f} dias\")\n",
    "    except:\n",
    "        print(\"Formato inválido ou data não encontrada nos registros, tente novamente.\")\n",
    "        \n",
    "\n",
    "data_input = input('Digite uma data no formato dd/mm/aaaa: ')\n",
    "retorno_investimento(data_input)#'22/01/2023'\n",
    "#Acho que funcionou agora só resta acoplar..."
   ]
  },
  {
   "cell_type": "markdown",
   "id": "a1f850c7-9ec1-4c87-a923-cbb8116c8312",
   "metadata": {},
   "source": [
    "---------------"
   ]
  },
  {
   "cell_type": "code",
   "execution_count": null,
   "id": "f3079459-5c69-4d89-a6f4-e90ec04cc857",
   "metadata": {},
   "outputs": [],
   "source": [
    "#A mudança deve ser para esse tipo de dicionário, fica mais fiel ao que tá pedindo no projeto:\n",
    "dicionario_p_csv = {'tipo_registro': ['investimento', 'saldo'], 'valor': [200, 700], 'data': ['22/01/2023','22/01/2024' ]}\n",
    "dicio_leitura = {}"
   ]
  },
  {
   "cell_type": "code",
   "execution_count": 4,
   "id": "d6a8ee2b-2ced-4f21-8208-f88f6e1f6af4",
   "metadata": {},
   "outputs": [
    {
     "ename": "NameError",
     "evalue": "name 'dicio_leitura' is not defined",
     "output_type": "error",
     "traceback": [
      "\u001b[1;31m---------------------------------------------------------------------------\u001b[0m",
      "\u001b[1;31mNameError\u001b[0m                                 Traceback (most recent call last)",
      "Cell \u001b[1;32mIn[4], line 24\u001b[0m\n\u001b[0;32m     22\u001b[0m \u001b[38;5;28;01mwith\u001b[39;00m \u001b[38;5;28mopen\u001b[39m(\u001b[38;5;124m'\u001b[39m\u001b[38;5;124mregistros.csv\u001b[39m\u001b[38;5;124m'\u001b[39m, newline\u001b[38;5;241m=\u001b[39m\u001b[38;5;124m'\u001b[39m\u001b[38;5;124m'\u001b[39m) \u001b[38;5;28;01mas\u001b[39;00m csvfile:\n\u001b[0;32m     23\u001b[0m     reader \u001b[38;5;241m=\u001b[39m csv\u001b[38;5;241m.\u001b[39mDictReader(csvfile)\n\u001b[1;32m---> 24\u001b[0m     \u001b[43mdicio_leitura\u001b[49m[\u001b[38;5;124m'\u001b[39m\u001b[38;5;124mtipo_registro\u001b[39m\u001b[38;5;124m'\u001b[39m] \u001b[38;5;241m=\u001b[39m []\n\u001b[0;32m     25\u001b[0m     dicio_leitura[\u001b[38;5;124m'\u001b[39m\u001b[38;5;124mvalor\u001b[39m\u001b[38;5;124m'\u001b[39m] \u001b[38;5;241m=\u001b[39m []\n\u001b[0;32m     26\u001b[0m     dicio_leitura[\u001b[38;5;124m'\u001b[39m\u001b[38;5;124mdata\u001b[39m\u001b[38;5;124m'\u001b[39m] \u001b[38;5;241m=\u001b[39m []\n",
      "\u001b[1;31mNameError\u001b[0m: name 'dicio_leitura' is not defined"
     ]
    }
   ],
   "source": [
    "# Com o pacote csv podemos usar a função de escrever diretamente como dicionário\n",
    "# Para escrever o arquivo:\n",
    "# Temos que criar uma uma função para dar um append aos registros carregados se estes não estiverem vazios como o Lucas falou\n",
    "# Eu escrevi essas funções lendo a documentação da biblioteca csv, por isso tá meio diferente da aula do professor\n",
    "\n",
    "# Essa função de escrita itera no número de registros e escreve no arquivo csv vazio ou sobrescreve um que esteja com conteúdo\n",
    "# Aí novamente temos que lembrar do que o lucas falou e ver uma função que dê append em registros cque já tenham conteúdo\n",
    "with open('registros.csv', 'w', newline='') as csvfile:\n",
    "    fieldnames = ['tipo_registro', 'valor', 'data']\n",
    "    writer = csv.DictWriter(csvfile, fieldnames=fieldnames)\n",
    "    writer.writeheader()\n",
    "    for indice in range(0, len(registros['tipo_registro'])):\n",
    "        writer.writerow({'tipo_registro': registros['tipo_registro'][indice], \n",
    "                         'valor': registros['valor'][indice], \n",
    "                         'data': registros['data'][indice]})\n",
    "csvfile.close()\n",
    "#################################################################################################################################\n",
    "\n",
    "# Para ler o arquivo:\n",
    "\n",
    "# Deverá ser possível consultar os registros por data, tipo ou valor, mas isso eu não tentei, só tentei ver o básico pra testar\n",
    "# Tem algum erro mas depois alguém vê que tô com sono kkkkkkkkk\n",
    "with open('registros.csv', newline='') as csvfile:\n",
    "    reader = csv.DictReader(csvfile)\n",
    "    dicio_leitura['tipo_registro'] = []\n",
    "    dicio_leitura['valor'] = []\n",
    "    dicio_leitura['data'] = []\n",
    "    for row in reader:\n",
    "        dicio_leitura['tipo_registro'].append(row['tipo_registro'])\n",
    "        dicio_leitura['valor'].append(row['valor'])\n",
    "        dicio_leitura['data'].append(row['data'])\n",
    "csvfile.close()\n",
    "dicio_leitura"
   ]
  }
 ],
 "metadata": {
  "kernelspec": {
   "display_name": "Python 3 (ipykernel)",
   "language": "python",
   "name": "python3"
  },
  "language_info": {
   "codemirror_mode": {
    "name": "ipython",
    "version": 3
   },
   "file_extension": ".py",
   "mimetype": "text/x-python",
   "name": "python",
   "nbconvert_exporter": "python",
   "pygments_lexer": "ipython3",
   "version": "3.9.18"
  }
 },
 "nbformat": 4,
 "nbformat_minor": 5
}

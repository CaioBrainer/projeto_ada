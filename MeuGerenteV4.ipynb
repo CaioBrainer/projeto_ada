{
 "cells": [
  {
   "cell_type": "markdown",
   "id": "245b822d-3fc2-4cf6-aeec-12ddb406262f",
   "metadata": {},
   "source": [
    "# <center> Meu Gerente Financeiro </center>"
   ]
  },
  {
   "cell_type": "markdown",
   "id": "851d8e0a-850b-4a6e-8007-2c9f202b3d49",
   "metadata": {},
   "source": [
    "-----"
   ]
  },
  {
   "cell_type": "raw",
   "id": "84069ea1-9ffd-4f50-90be-2640dc8e8578",
   "metadata": {},
   "source": [
    "Projeto de finalização do módulo do grupo: Caio, Ian, Bianca, Lucas e Camila"
   ]
  },
  {
   "cell_type": "markdown",
   "id": "8b69c8a9-b2d5-4867-b7be-4c644feb0723",
   "metadata": {},
   "source": [
    "----"
   ]
  },
  {
   "cell_type": "code",
   "execution_count": 6,
   "id": "f02a5e29-a19a-47ef-b0a5-1bde1f1a50fc",
   "metadata": {},
   "outputs": [],
   "source": [
    "#Bibliotecas Utilizadas\n",
    "import datetime\n",
    "import csv\n",
    "from IPython.display import clear_output"
   ]
  },
  {
   "cell_type": "code",
   "execution_count": null,
   "id": "8769b797-3d63-4b91-b8ae-f948fbf4faeb",
   "metadata": {
    "collapsed": true
   },
   "outputs": [
    {
     "name": "stdout",
     "output_type": "stream",
     "text": [
      "------------------------------------------------------------\n",
      "1. Criar novo registro.\n",
      "2. Atualizar registro existente.\n",
      "3. Deletar registro existente.\n",
      "4. Ler registros \n",
      "5. Exportar registros.\n",
      "6. Retorno dos investimentos.\n",
      "7. Relatório por registro.\n",
      "8. Sair do aplicativo.\n",
      "------------------------------------------------------------\n"
     ]
    }
   ],
   "source": [
    "# Esqueleto do sistema:\n",
    "def meu_gerente():\n",
    "    print(80*'#')\n",
    "    print(\"Seja bem vindo ao seu gerente pessoal\")\n",
    "    print(80*'#')\n",
    "\n",
    "    #Realiza a carga inicial caso haja algum arquivo com dados históricos de transação\n",
    "    registros = carga_dados()\n",
    "\n",
    "    # Loop principal do programa\n",
    "    while True:\n",
    "        exibir_menu()\n",
    "        \n",
    "        escolha = input(\"Escolha uma opção (1-8): \")\n",
    "        \n",
    "        if escolha == '1':\n",
    "            criar_registro(registros)\n",
    "        elif escolha == '2':\n",
    "            atualizar_registros(registros)\n",
    "        elif escolha == '3':\n",
    "            deletar_registros(registros)\n",
    "        elif escolha == '4':\n",
    "            ler_registros(registros)\n",
    "        elif escolha == '5':\n",
    "            exportar_registros(registros)\n",
    "        elif escolha == '6':\n",
    "            retorno_investimento(registros)\n",
    "        elif escolha == '7':\n",
    "            calcular_total_por_tipo(registros)\n",
    "        elif escolha == '8':\n",
    "            print(\"Saindo do programa...\")\n",
    "            print(\"Exportando registros...\")\n",
    "            exportar_registros(registros)\n",
    "            print(\"Até mais!\")\n",
    "            break\n",
    "        else:\n",
    "            print(\"Opção inválida. Tente novamente.\")\n",
    "        input(\"Pressione Enter para limpar...\")  # Aguarda antes de limpar\n",
    "        clear_output(wait=True)  # Limpa a tela  \n",
    "        \n",
    "\n",
    "#Função para realizar a carga inicial dos dados históricos\n",
    "def carga_dados():\n",
    "    registros = []\n",
    "    nome_arquivo = 'historico_transacoes.csv'\n",
    "    try:\n",
    "        with open(nome_arquivo, newline='') as csvfile:\n",
    "            reader = csv.DictReader(csvfile)\n",
    "            for row in reader:\n",
    "                dicionario_linha = {}\n",
    "                if row['data_investimento']:\n",
    "                    dicionario_linha['tipo_registro'] = row['tipo_registro']\n",
    "                    dicionario_linha['valor'] = float(row['valor'])\n",
    "                    dicionario_linha['data'] = row['data']\n",
    "                    dicionario_linha['data_investimento'] = row['data_investimento']\n",
    "                else:\n",
    "                    dicionario_linha['tipo_registro'] = row['tipo_registro']\n",
    "                    dicionario_linha['valor'] = float(row['valor'])\n",
    "                    dicionario_linha['data'] = row['data']\n",
    "                registros.append(dicionario_linha)\n",
    "        csvfile.close()\n",
    "        \n",
    "    except Exception:\n",
    "        print(f\"Não há nenhum arquivo chamado {nome_arquivo}\")\n",
    "        print(f\"Criou lista vazia registros_teste: {registros}\")\n",
    "    # Fecha o arquivo pra não dar BO\n",
    "    # irá retornar uma lista vazia\n",
    "    return registros\n",
    "\n",
    "def exibir_menu():\n",
    "    print(60*'-')\n",
    "    print(\"1. Criar novo registro.\")\n",
    "    print(\"2. Atualizar registro existente.\")\n",
    "    print(\"3. Deletar registro existente.\")\n",
    "    print(\"4. Ler registros \")\n",
    "    print(\"5. Exportar registros.\")\t\n",
    "    print(\"6. Retorno dos investimentos.\")\n",
    "    print(\"7. Relatório por registro.\")\n",
    "    print(\"8. Sair do aplicativo.\")\n",
    "    print(60*'-')\n",
    "\n",
    "# Função para exportar os registros\n",
    "def exportar_registros(registros):\n",
    "    nome_arquivo = 'historico_transacoes.csv'\n",
    "    try:\n",
    "        if not nome_arquivo.endswith(\".csv\"):\n",
    "            nome_arquivo = nome_arquivo + \".csv\"\n",
    "    \n",
    "        with open(nome_arquivo, 'w', newline='') as csvfile:\n",
    "            nomes_colunas = ['tipo_registro', 'valor', 'data', 'data_investimento']\n",
    "            escritor = csv.DictWriter(csvfile, fieldnames=nomes_colunas)\n",
    "            escritor.writeheader()\n",
    "            \n",
    "            for registro in registros:\n",
    "                if  registro.get('data_investimento'):\n",
    "                    escritor.writerow({'tipo_registro': registro['tipo_registro'], \n",
    "                                       'valor': registro['valor'], \n",
    "                                       'data': registro['data'], 'data_investimento': registro['data_investimento']})\n",
    "                else:\n",
    "                    escritor.writerow({'tipo_registro': registro['tipo_registro'], \n",
    "                                       'valor': registro['valor'], \n",
    "                                       'data': registro['data']})\n",
    "    except Exception as e:\n",
    "        print(f\"Não foi possível gerar um relatório de saída válido. Erro: {e}\")\n",
    "\n",
    "# Função para criar os registros\n",
    "def criar_registro(registros):\n",
    "    registro = {}\n",
    "    # Iremos criar um registro como dicionário nesse formato:\n",
    "    # {'tipo_registro': 'saldo', 'valor': 200, 'data': '22/01/2021'}\n",
    "    data_atual = datetime.datetime.now().date()\n",
    "    data_formatada = data_atual.strftime(\"%d/%m/%Y\")\n",
    "    \n",
    "    # Os tipos de registros são três: despesas, receita ou investimento, lembrar disso...\n",
    "    movimentacao = (input('Digite o tipo de movimentação: ')).lower()\n",
    "    while movimentacao not in ['despesa', 'receita', 'investimento']:\n",
    "        print(\"Movimentação inválida, digite: despesas, receita ou investimento\")\n",
    "        movimentacao = (input('Digite um tipo válido de movimentação: ')).lower()\n",
    "\n",
    "    registro['tipo_registro'] = movimentacao\n",
    "    #registros['tipo_registro'].append(movimentacao)\n",
    "    \n",
    "    valor = float(input('Digite o valor movimentado:'))\n",
    "    if movimentacao == 'despesa':\n",
    "        valor_neg = -valor\n",
    "        registro['valor'] = -valor # Valor negativo para indicar despesa (gasto)\n",
    "    else:\n",
    "        registro['valor'] = valor # Valor positivo para indicar receita (depósito) ou investimento\n",
    "    registro['data'] = data_formatada\n",
    "\n",
    "    if movimentacao == 'investimento': #Se for investimento também precisaremos ter a data inicial do investimento\n",
    "        registro['data_investimento'] = data_formatada\n",
    "\n",
    "    registros.append(registro) \n",
    "    return registros\n",
    "    \n",
    "def ler_registros(registros):\n",
    "    while True:\n",
    "        escolha = input(\"Escolha filtar por: todos, registro, valor ou data: \")\n",
    "\n",
    "        if escolha == 'registro':\n",
    "            tipo_filtro = \"registro\"\n",
    "            registro_escolha = input(\"Digite o tipo de registro (receita, despesa ou investimento): \")\n",
    "            resultado_filtro = list(filter(lambda dc: dc.get('tipo_registro') == registro_escolha, registros))\n",
    "            [print(f\"Id {indice}: {dicio}\") for indice, dicio in enumerate(resultado_filtro)]\n",
    "            break  # Saia do loop após a filtragem\n",
    "\n",
    "        elif escolha == 'valor':\n",
    "            busca = float(input(\"Digite o valor: \"))\n",
    "            resultado_filtro = list(filter(lambda dc: dc.get('valor') == busca, registros))\n",
    "            [print(f\"Id {indice}: {dicio}\") for indice, dicio in enumerate(resultado_filtro)]\n",
    "            break  # Saia do loop após a filtragem\n",
    "\n",
    "        elif escolha == 'data':\n",
    "            busca = input(\"Digite a data: \")\n",
    "            resultado_filtro = list(filter(lambda dc: dc.get('data') == busca, registros))\n",
    "            [print(f\"Id {indice}: {dicio}\") for indice, dicio in enumerate(resultado_filtro)]\n",
    "            break  # Saia do loop após a filtragem\n",
    "        \n",
    "        elif escolha== 'todos':\n",
    "            print(80*'#')\n",
    "            [print(f\"Id {indice}: {dicio}\") for indice, dicio in enumerate(registros)]\n",
    "            print(80*'#')\n",
    "            break\n",
    "\n",
    "        else:\n",
    "            print(\"Opção inválida. Tente novamente.\")\n",
    "            \n",
    "def atualizar_registros(registros):\n",
    "    print(\"Registros existentes:\")\n",
    "    for i, registro in enumerate(registros, start=0):\n",
    "        print(f\"{i}. Tipo: {registro['tipo_registro']}, Valor: {registro['valor']}, Data: {registro['data']}\")\n",
    "    \n",
    "    try:\n",
    "        indice = int(input(\"Digite o número do registro a ser atualizado: \"))\n",
    "        if 0 <= indice and indice < len(registros):\n",
    "            novo_registro = (input(\"Digite o novo tipo do registro: \")).lower()\n",
    "            novo_valor = float(input(\"Digite o novo valor: \"))\n",
    "\n",
    "            # Pegar novo registro e valor :\n",
    "            registros[indice]['tipo_registro'] = novo_registro\n",
    "            if novo_registro == 'despesa':\n",
    "                registros[indice]['valor'] = -novo_valor\n",
    "            else:\n",
    "                registros[indice]['valor'] = novo_valor\n",
    "\n",
    "            # Pegar data atualizada...:\n",
    "            data_atualizacao = datetime.datetime.now().date()\n",
    "            data_atualizacao_formatada = data_atualizacao.strftime(\"%d/%m/%Y\")\n",
    "            registros[indice]['data'] = data_atualizacao_formatada\n",
    "            \n",
    "            print(\"Registro atualizado com sucesso.\")\n",
    "            \n",
    "        else:\n",
    "            print(\"Índice inválido.\")\n",
    "    except ValueError:\n",
    "        print(\"Entrada inválida. Por favor, digite um número inteiro.\")\n",
    "\n",
    "def deletar_registros(registros):\n",
    "    [print(f\"Id {indice}: {dicio}\") for indice, dicio in enumerate(registros)]\n",
    "    try:\n",
    "        indice = int(input(\"Digite o índice do registro que você deseja excluir: \"))\n",
    "        try:\n",
    "            del registros[indice]\n",
    "            print(f\"Registro com Id: {indice} foi excluido com sucesso do sistema.\")\n",
    "        except IndexError:\n",
    "            print(\"Valor de índice fora dos limites da lista\")\n",
    "    except ValueError:\n",
    "        print(\"Valor de índice inválido! Foi digitado uma string e a função espera um número inteiro!\")\n",
    "\n",
    "    return registros\n",
    "\n",
    "def retorno_investimento(registros):\n",
    "    \n",
    "    resultado_filtro = list(filter(lambda dc: dc.get('tipo_registro') == 'investimento', registros))\n",
    "    print('Registros do tipo investimento encontrados na base de dados: ')\n",
    "    print(80*'-')\n",
    "    [print(f\"Id {indice}: {dicio}\") for indice, dicio in enumerate(resultado_filtro)]\n",
    "    print(80*'-')\n",
    "\n",
    "    print('\\n')\n",
    "    print('Informações sobre os investimentos realizados')\n",
    "    print(80*'-')\n",
    "    for indice, registro in enumerate(resultado_filtro):\n",
    "        valor = registro['valor'] #valor na data do investimento.\n",
    "        data = registro['data']\n",
    "        \n",
    "        formato_data = \"%d/%m/%Y\"\n",
    "        data_atual = datetime.datetime.now().date()\n",
    "        data_em_datetime = datetime.datetime.strptime(data, formato_data)\n",
    "        dias_passados = (data_atual - data_em_datetime.date()).days #dias passados pós investimento\n",
    "        dias_passados_por_ano = dias_passados/365\n",
    "        \n",
    "        valor_juros = valor * (1 + 0.07)**dias_passados_por_ano\n",
    "        print(f\"Seu investimento de R$ {valor:.2f} realizado em {data}, retornou R$ {valor_juros:.2f} após {dias_passados:.0f} dias\")\n",
    "        data_formatada = data_atual.strftime(\"%d/%m/%Y\")\n",
    "        \n",
    "        #print(data_formatada)    \n",
    "        registro['valor'] = valor_juros \n",
    "        #registro['data'] = data_formatada\n",
    "        \n",
    "    print(80*'-')\n",
    "    print('Investimentos atualizados com novos valores')\n",
    "    \n",
    "def calcular_total_por_tipo(registros):\n",
    "    filtro = input('Digite um tipo de registro para agregar e retornar métricas: ').lower()\n",
    "    \n",
    "    if filtro == 'despesa':\n",
    "        soma = sum([registro['valor'] for registro in registros if registro['tipo_registro'] == 'despesa'])\n",
    "        media = soma/len([registro['valor'] for registro in registros if registro['tipo_registro'] == 'despesa'])\n",
    "    elif filtro == 'receita':\n",
    "        soma = sum([registro['valor'] for registro in registros if registro['tipo_registro'] == 'receita'])\n",
    "        media = soma/len([registro['valor'] for registro in registros if registro['tipo_registro'] == 'receita'])\n",
    "    elif filtro == 'investimento':\n",
    "        soma = sum([registro['valor'] for registro in registros if registro['tipo_registro'] == 'investimento'])\n",
    "        media = soma/len([registro['valor'] for registro in registros if registro['tipo_registro'] == 'investimento'])\n",
    "    else:\n",
    "        print('Tipo de registro inválido!!!')\n",
    "        \n",
    "    print(f'Valor total de {filtro} é {soma}, a média é {media}')\n",
    "\n",
    "meu_gerente()   "
   ]
  },
  {
   "cell_type": "code",
   "execution_count": null,
   "id": "43c7a133-77fc-4c7c-928a-cb1d166799c7",
   "metadata": {},
   "outputs": [],
   "source": [
    "#Aqui vai a execução do sistema, ao longo do projeto a gente vai adicionando as funções que fomos implementando :)\n",
    "# Após ler novamente eu decidi retirar o montante para não complicar demais o projeto, precisamos discutir isso :)\n",
    "meu_gerente()"
   ]
  },
  {
   "cell_type": "markdown",
   "id": "fd099a34-2bf7-4c28-8553-7dfd374f1d51",
   "metadata": {},
   "source": []
  },
  {
   "cell_type": "code",
   "execution_count": 4,
   "id": "591a822e-dedf-47d0-9e15-e23e81db4f8a",
   "metadata": {},
   "outputs": [
    {
     "name": "stdout",
     "output_type": "stream",
     "text": [
      "{'tipo_registro': 'investimento', 'valor': 200.0, 'data': '25/01/2024', 'data_investimento': '25/01/2024'}\n",
      "{'tipo_registro': 'despesa', 'valor': -100.0, 'data': '25/01/2024'}\n",
      "{'tipo_registro': 'receita', 'valor': 150.0, 'data': '25/01/2024'}\n",
      "{'tipo_registro': 'investimento', 'valor': 175.0, 'data': '25/01/2024', 'data_investimento': '25/01/2024'}\n"
     ]
    }
   ],
   "source": [
    "registros_teste = []\n",
    "nome_arquivo = 'historico_transacoes.csv'\n",
    "\n",
    "with open(nome_arquivo, newline='') as csvfile:\n",
    "    reader = csv.DictReader(csvfile)\n",
    "    for row in reader:\n",
    "        dicionario_linha = {}\n",
    "        if row['data_investimento']:\n",
    "            dicionario_linha['tipo_registro'] = row['tipo_registro']\n",
    "            dicionario_linha['valor'] = float(row['valor'])\n",
    "            dicionario_linha['data'] = row['data']\n",
    "            dicionario_linha['data_investimento'] = row['data_investimento']\n",
    "        else:\n",
    "            dicionario_linha['tipo_registro'] = row['tipo_registro']\n",
    "            dicionario_linha['valor'] = float(row['valor'])\n",
    "            dicionario_linha['data'] = row['data']\n",
    "        registros_teste.append(dicionario_linha)\n",
    "csvfile.close()\n",
    "\n",
    "for registro in registros_teste:\n",
    "    print(registro)"
   ]
  },
  {
   "cell_type": "code",
   "execution_count": 13,
   "id": "08e5f242-a462-4cb2-993b-9dd59b1a9fe0",
   "metadata": {},
   "outputs": [
    {
     "name": "stdout",
     "output_type": "stream",
     "text": [
      "25/01/2024\n",
      "['25', '01', '2024']\n",
      "25/01/2024\n"
     ]
    }
   ],
   "source": [
    "string_data = '25/01/2024'\n",
    "print(string_data)\n",
    "data_separada = string_data.split('/')\n",
    "print(data_separada)\n",
    "data_junta = \"/\".join(data_separada)\n",
    "print(data_junta)"
   ]
  },
  {
   "cell_type": "code",
   "execution_count": 5,
   "id": "2382323b-df90-4039-8f01-1d8d4d8a111c",
   "metadata": {},
   "outputs": [
    {
     "data": {
      "text/plain": [
       "1"
      ]
     },
     "execution_count": 5,
     "metadata": {},
     "output_type": "execute_result"
    }
   ],
   "source": [
    "int('01')"
   ]
  },
  {
   "cell_type": "code",
   "execution_count": 50,
   "id": "96394940-845a-4004-8a6b-331276749c13",
   "metadata": {},
   "outputs": [],
   "source": [
    "registros_teste.append({'tipo_registro': 'despesa', 'valor': -75.0, 'data': '23/01/2024'})"
   ]
  },
  {
   "cell_type": "code",
   "execution_count": 51,
   "id": "979d2b80-4907-459b-8b10-d95e4c741294",
   "metadata": {},
   "outputs": [
    {
     "name": "stdout",
     "output_type": "stream",
     "text": [
      "investimento 200.0\n",
      "despesa -100.0\n",
      "receita 150.0\n",
      "investimento 175.0\n",
      "despesa -75.0\n"
     ]
    }
   ],
   "source": [
    "for registro in registros_teste:\n",
    "    print(registro['tipo_registro'], registro['valor'])"
   ]
  },
  {
   "cell_type": "code",
   "execution_count": 58,
   "id": "d8f81839-5c6e-44c2-811b-d0d219578ca2",
   "metadata": {},
   "outputs": [],
   "source": [
    "def calcular_total_por_tipo(registros):\n",
    "    filtro = input('Digite um tipo de registro para agregar e retornar métricas: ').lower()\n",
    "    \n",
    "    if filtro == 'despesa':\n",
    "        soma = sum([registro['valor'] for registro in registros if registro['tipo_registro'] == 'despesa'])\n",
    "        media = soma/len([registro['valor'] for registro in registros if registro['tipo_registro'] == 'despesa'])\n",
    "    elif filtro == 'receita':\n",
    "        soma = sum([registro['valor'] for registro in registros if registro['tipo_registro'] == 'receita'])\n",
    "        media = soma/len([registro['valor'] for registro in registros if registro['tipo_registro'] == 'receita'])\n",
    "    elif filtro == 'investimento':\n",
    "        soma = sum([registro['valor'] for registro in registros if registro['tipo_registro'] == 'investimento'])\n",
    "        media = soma/len([registro['valor'] for registro in registros if registro['tipo_registro'] == 'investimento'])\n",
    "    else:\n",
    "        print('Tipo de registro inválido!!!')\n",
    "        \n",
    "    print(f'Valor total de {filtro} é {soma}, a média é {media}')"
   ]
  },
  {
   "cell_type": "code",
   "execution_count": 59,
   "id": "232ad5dd-f219-44a1-bb31-c8e02badd4c0",
   "metadata": {},
   "outputs": [
    {
     "name": "stdin",
     "output_type": "stream",
     "text": [
      "Digite um tipo de registro para agregar e retornar métricas:  despesa\n"
     ]
    },
    {
     "name": "stdout",
     "output_type": "stream",
     "text": [
      "Valor total de despesa é -175.0, a média é -87.5\n"
     ]
    }
   ],
   "source": [
    "calcular_total_por_tipo(registros_teste)"
   ]
  },
  {
   "cell_type": "code",
   "execution_count": 60,
   "id": "21616686-7964-48fb-86c3-8f30b75ebb5a",
   "metadata": {},
   "outputs": [
    {
     "name": "stdin",
     "output_type": "stream",
     "text": [
      "Digite um tipo de registro para agregar e retornar métricas:  receita\n"
     ]
    },
    {
     "name": "stdout",
     "output_type": "stream",
     "text": [
      "Valor total de receita é 150.0, a média é 150.0\n"
     ]
    }
   ],
   "source": [
    "calcular_total_por_tipo(registros_teste)"
   ]
  },
  {
   "cell_type": "code",
   "execution_count": 61,
   "id": "07dc1978-b94b-4cc1-97fc-3eb9a5fd6402",
   "metadata": {},
   "outputs": [
    {
     "name": "stdin",
     "output_type": "stream",
     "text": [
      "Digite um tipo de registro para agregar e retornar métricas:  investimento\n"
     ]
    },
    {
     "name": "stdout",
     "output_type": "stream",
     "text": [
      "Valor total de investimento é 375.0, a média é 187.5\n"
     ]
    }
   ],
   "source": [
    "calcular_total_por_tipo(registros_teste)"
   ]
  }
 ],
 "metadata": {
  "kernelspec": {
   "display_name": "Python 3 (ipykernel)",
   "language": "python",
   "name": "python3"
  },
  "language_info": {
   "codemirror_mode": {
    "name": "ipython",
    "version": 3
   },
   "file_extension": ".py",
   "mimetype": "text/x-python",
   "name": "python",
   "nbconvert_exporter": "python",
   "pygments_lexer": "ipython3",
   "version": "3.11.5"
  }
 },
 "nbformat": 4,
 "nbformat_minor": 5
}
